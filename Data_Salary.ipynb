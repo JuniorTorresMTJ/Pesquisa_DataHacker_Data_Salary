{
  "nbformat": 4,
  "nbformat_minor": 0,
  "metadata": {
    "colab": {
      "name": "Data_Salary.ipynb",
      "provenance": [],
      "collapsed_sections": [],
      "authorship_tag": "ABX9TyPTPaxwBEdIbOwS1qD/rVLl",
      "include_colab_link": true
    },
    "kernelspec": {
      "name": "python3",
      "display_name": "Python 3"
    }
  },
  "cells": [
    {
      "cell_type": "markdown",
      "metadata": {
        "id": "view-in-github",
        "colab_type": "text"
      },
      "source": [
        "<a href=\"https://colab.research.google.com/github/JuniorTorresMTJ/Pesquisa_DataHacker_Data_Salary/blob/master/Data_Salary.ipynb\" target=\"_parent\"><img src=\"https://colab.research.google.com/assets/colab-badge.svg\" alt=\"Open In Colab\"/></a>"
      ]
    },
    {
      "cell_type": "code",
      "metadata": {
        "id": "km6o98184pVr",
        "colab_type": "code",
        "colab": {
          "base_uri": "https://localhost:8080/",
          "height": 396
        },
        "outputId": "a8f6a9ec-b082-4ae4-cddb-dfd6e550c7b2"
      },
      "source": [
        "import numpy as np\n",
        "import pandas as pd \n",
        "\n",
        "url =\"https://github.com/JuniorTorresMTJ/Pesquisa_DataHacker_Data_Salary/blob/master/datahackers-survey-2019-anonymous-responses.csv?raw=true\"\n",
        "\n",
        "dados = pd.read_csv(url)\n",
        "dados.head()"
      ],
      "execution_count": 6,
      "outputs": [
        {
          "output_type": "execute_result",
          "data": {
            "text/html": [
              "<div>\n",
              "<style scoped>\n",
              "    .dataframe tbody tr th:only-of-type {\n",
              "        vertical-align: middle;\n",
              "    }\n",
              "\n",
              "    .dataframe tbody tr th {\n",
              "        vertical-align: top;\n",
              "    }\n",
              "\n",
              "    .dataframe thead th {\n",
              "        text-align: right;\n",
              "    }\n",
              "</style>\n",
              "<table border=\"1\" class=\"dataframe\">\n",
              "  <thead>\n",
              "    <tr style=\"text-align: right;\">\n",
              "      <th></th>\n",
              "      <th>('P0', 'id')</th>\n",
              "      <th>('P1', 'age')</th>\n",
              "      <th>('P2', 'gender')</th>\n",
              "      <th>('P3', 'living_in_brasil')</th>\n",
              "      <th>('P5', 'living_state')</th>\n",
              "      <th>('P6', 'born_or_graduated')</th>\n",
              "      <th>('P8', 'degreee_level')</th>\n",
              "      <th>('P10', 'job_situation')</th>\n",
              "      <th>('P12', 'workers_number')</th>\n",
              "      <th>('P13', 'manager')</th>\n",
              "      <th>('P16', 'salary_range')</th>\n",
              "      <th>('P17', 'time_experience_data_science')</th>\n",
              "      <th>('P18', 'time_experience_before')</th>\n",
              "      <th>('P19', 'is_data_science_professional')</th>\n",
              "      <th>('P20', 'linear_regression')</th>\n",
              "      <th>('P20', 'logistic_regression')</th>\n",
              "      <th>('P20', 'glms')</th>\n",
              "      <th>('P20', 'decision_tree')</th>\n",
              "      <th>('P20', 'random_forest')</th>\n",
              "      <th>('P20', 'neural_networks')</th>\n",
              "      <th>('P20', 'bayesian_inference')</th>\n",
              "      <th>('P20', 'ensemble')</th>\n",
              "      <th>('P20', 'svms')</th>\n",
              "      <th>('P20', 'cnns')</th>\n",
              "      <th>('P20', 'rnns')</th>\n",
              "      <th>('P20', 'hmms')</th>\n",
              "      <th>('P20', 'gans')</th>\n",
              "      <th>('P20', 'markov_chains')</th>\n",
              "      <th>('P20', 'nlp')</th>\n",
              "      <th>('P20', 'gradient_boosted_machines')</th>\n",
              "      <th>('P20', 'cluster_analysis')</th>\n",
              "      <th>('P20', 'survival_analysis')</th>\n",
              "      <th>('P20', 'longitudinal_data_analysis')</th>\n",
              "      <th>('P20', 'joint analysis')</th>\n",
              "      <th>('P20', 'no_listed_methods')</th>\n",
              "      <th>('P21', 'sql_')</th>\n",
              "      <th>('P21', 'r')</th>\n",
              "      <th>('P21', 'python')</th>\n",
              "      <th>('P21', 'c_c++_c#')</th>\n",
              "      <th>('P21', 'dotnet')</th>\n",
              "      <th>...</th>\n",
              "      <th>('P30', 'microsoft_azure')</th>\n",
              "      <th>('P30', 'do_not_know')</th>\n",
              "      <th>('P30', 'other')</th>\n",
              "      <th>('P31', 'data_hackers_blog')</th>\n",
              "      <th>('P31', 'data_hackers_podcast')</th>\n",
              "      <th>('P31', 'weekly_newsletter')</th>\n",
              "      <th>('P31', 'slack_channel')</th>\n",
              "      <th>('P31', 'data_hackers_bootcamp')</th>\n",
              "      <th>('P31', 'do_not_know_data_hackers')</th>\n",
              "      <th>('P32', 'prefered_data_hackers_initiative')</th>\n",
              "      <th>('P33', 'telegram_groups')</th>\n",
              "      <th>('P33', 'whatsapp_groups')</th>\n",
              "      <th>('P33', 'youtube_channels')</th>\n",
              "      <th>('P33', 'other_brasilian_blogs')</th>\n",
              "      <th>('P33', 'other_slack_channels')</th>\n",
              "      <th>('P33', 'twitter')</th>\n",
              "      <th>('P33', 'abroad_blogs')</th>\n",
              "      <th>('P33', 'abroad_podcasts')</th>\n",
              "      <th>('P33', 'meetups_and_events')</th>\n",
              "      <th>('P33', 'only_data_hackers')</th>\n",
              "      <th>('P33', 'other')</th>\n",
              "      <th>('P34', 'udacity')</th>\n",
              "      <th>('P34', 'coursera')</th>\n",
              "      <th>('P34', 'udemy')</th>\n",
              "      <th>('P34', 'height')</th>\n",
              "      <th>('P34', 'edx')</th>\n",
              "      <th>('P34', 'data_camp')</th>\n",
              "      <th>('P34', 'data_quest')</th>\n",
              "      <th>('P34', 'kaggle_learn')</th>\n",
              "      <th>('P34', 'online_courses')</th>\n",
              "      <th>('P34', 'other')</th>\n",
              "      <th>('P35', 'data_science_plataforms_preference')</th>\n",
              "      <th>('P35', 'other')</th>\n",
              "      <th>('P36', 'draw_participation')</th>\n",
              "      <th>('D1', 'living_macroregion')</th>\n",
              "      <th>('D2', 'origin_macroregion')</th>\n",
              "      <th>('D3', 'anonymized_degree_area')</th>\n",
              "      <th>('D4', 'anonymized_market_sector')</th>\n",
              "      <th>('D5', 'anonymized_manager_level')</th>\n",
              "      <th>('D6', 'anonymized_role')</th>\n",
              "    </tr>\n",
              "  </thead>\n",
              "  <tbody>\n",
              "    <tr>\n",
              "      <th>0</th>\n",
              "      <td>v9otv8j9wdvjrv9otvwnn9owhzq54ktv</td>\n",
              "      <td>37.0</td>\n",
              "      <td>Masculino</td>\n",
              "      <td>1</td>\n",
              "      <td>Minas Gerais (MG)</td>\n",
              "      <td>1.0</td>\n",
              "      <td>Estudante de Graduação</td>\n",
              "      <td>Empregado (CTL)</td>\n",
              "      <td>de 1 a 5</td>\n",
              "      <td>0.0</td>\n",
              "      <td>de R$ 1.001/mês a R$ 2.000/mês</td>\n",
              "      <td>Não tenho experiência na área de dados</td>\n",
              "      <td>Não tive experiência na área de TI/Engenharia ...</td>\n",
              "      <td>0</td>\n",
              "      <td>0</td>\n",
              "      <td>0</td>\n",
              "      <td>0</td>\n",
              "      <td>0</td>\n",
              "      <td>0</td>\n",
              "      <td>0</td>\n",
              "      <td>0</td>\n",
              "      <td>0</td>\n",
              "      <td>0</td>\n",
              "      <td>0</td>\n",
              "      <td>0</td>\n",
              "      <td>0</td>\n",
              "      <td>0</td>\n",
              "      <td>0</td>\n",
              "      <td>0</td>\n",
              "      <td>0</td>\n",
              "      <td>0</td>\n",
              "      <td>0</td>\n",
              "      <td>0</td>\n",
              "      <td>0</td>\n",
              "      <td>0</td>\n",
              "      <td>0</td>\n",
              "      <td>0</td>\n",
              "      <td>0</td>\n",
              "      <td>0</td>\n",
              "      <td>0</td>\n",
              "      <td>...</td>\n",
              "      <td>0</td>\n",
              "      <td>0</td>\n",
              "      <td>0</td>\n",
              "      <td>0</td>\n",
              "      <td>0</td>\n",
              "      <td>0</td>\n",
              "      <td>0</td>\n",
              "      <td>0</td>\n",
              "      <td>1</td>\n",
              "      <td>Ainda não conhecia o Data Hackers</td>\n",
              "      <td>0</td>\n",
              "      <td>0</td>\n",
              "      <td>1</td>\n",
              "      <td>0</td>\n",
              "      <td>0</td>\n",
              "      <td>0</td>\n",
              "      <td>0</td>\n",
              "      <td>0</td>\n",
              "      <td>0</td>\n",
              "      <td>0</td>\n",
              "      <td>0</td>\n",
              "      <td>0</td>\n",
              "      <td>0</td>\n",
              "      <td>0</td>\n",
              "      <td>0</td>\n",
              "      <td>0</td>\n",
              "      <td>0</td>\n",
              "      <td>0</td>\n",
              "      <td>0</td>\n",
              "      <td>1</td>\n",
              "      <td>0</td>\n",
              "      <td>Nunca fiz cursos online</td>\n",
              "      <td>NaN</td>\n",
              "      <td>1.0</td>\n",
              "      <td>Região Sudeste</td>\n",
              "      <td>NaN</td>\n",
              "      <td>Computação / Engenharia de Software / Sistemas...</td>\n",
              "      <td>Outras</td>\n",
              "      <td>NaN</td>\n",
              "      <td>Outras</td>\n",
              "    </tr>\n",
              "    <tr>\n",
              "      <th>1</th>\n",
              "      <td>875ul998t0hqcv0871uptwf3oswcfv35</td>\n",
              "      <td>24.0</td>\n",
              "      <td>Feminino</td>\n",
              "      <td>1</td>\n",
              "      <td>São Paulo (SP)</td>\n",
              "      <td>1.0</td>\n",
              "      <td>Estudante de Graduação</td>\n",
              "      <td>Empregado (CTL)</td>\n",
              "      <td>Acima de 3000</td>\n",
              "      <td>0.0</td>\n",
              "      <td>de R$ 2.001/mês a R$ 3000/mês</td>\n",
              "      <td>Menos de 1 ano</td>\n",
              "      <td>Não tive experiência na área de TI/Engenharia ...</td>\n",
              "      <td>1</td>\n",
              "      <td>0</td>\n",
              "      <td>0</td>\n",
              "      <td>0</td>\n",
              "      <td>0</td>\n",
              "      <td>0</td>\n",
              "      <td>0</td>\n",
              "      <td>0</td>\n",
              "      <td>0</td>\n",
              "      <td>0</td>\n",
              "      <td>0</td>\n",
              "      <td>0</td>\n",
              "      <td>0</td>\n",
              "      <td>0</td>\n",
              "      <td>0</td>\n",
              "      <td>0</td>\n",
              "      <td>0</td>\n",
              "      <td>0</td>\n",
              "      <td>0</td>\n",
              "      <td>0</td>\n",
              "      <td>0</td>\n",
              "      <td>1</td>\n",
              "      <td>1</td>\n",
              "      <td>0</td>\n",
              "      <td>1</td>\n",
              "      <td>0</td>\n",
              "      <td>0</td>\n",
              "      <td>...</td>\n",
              "      <td>0</td>\n",
              "      <td>0</td>\n",
              "      <td>0</td>\n",
              "      <td>0</td>\n",
              "      <td>0</td>\n",
              "      <td>0</td>\n",
              "      <td>0</td>\n",
              "      <td>0</td>\n",
              "      <td>1</td>\n",
              "      <td>Ainda não conhecia o Data Hackers</td>\n",
              "      <td>0</td>\n",
              "      <td>0</td>\n",
              "      <td>1</td>\n",
              "      <td>0</td>\n",
              "      <td>0</td>\n",
              "      <td>0</td>\n",
              "      <td>0</td>\n",
              "      <td>0</td>\n",
              "      <td>0</td>\n",
              "      <td>0</td>\n",
              "      <td>0</td>\n",
              "      <td>0</td>\n",
              "      <td>0</td>\n",
              "      <td>1</td>\n",
              "      <td>0</td>\n",
              "      <td>0</td>\n",
              "      <td>0</td>\n",
              "      <td>0</td>\n",
              "      <td>0</td>\n",
              "      <td>0</td>\n",
              "      <td>1</td>\n",
              "      <td>NaN</td>\n",
              "      <td>Data Science Academy</td>\n",
              "      <td>0.0</td>\n",
              "      <td>Região Sudeste</td>\n",
              "      <td>NaN</td>\n",
              "      <td>Computação / Engenharia de Software / Sistemas...</td>\n",
              "      <td>Educação</td>\n",
              "      <td>NaN</td>\n",
              "      <td>Data Analyst/Analista de Dados</td>\n",
              "    </tr>\n",
              "    <tr>\n",
              "      <th>2</th>\n",
              "      <td>puscuk079vw1pusbb900pzw2xvpxtgdk</td>\n",
              "      <td>26.0</td>\n",
              "      <td>Masculino</td>\n",
              "      <td>1</td>\n",
              "      <td>São Paulo (SP)</td>\n",
              "      <td>1.0</td>\n",
              "      <td>Graduação/Bacharelado</td>\n",
              "      <td>Empregado (CTL)</td>\n",
              "      <td>Acima de 3000</td>\n",
              "      <td>0.0</td>\n",
              "      <td>de R$ 4.001/mês a R$ 6.000/mês</td>\n",
              "      <td>de 1 a 2 anos</td>\n",
              "      <td>de 6 a 10 anos</td>\n",
              "      <td>1</td>\n",
              "      <td>0</td>\n",
              "      <td>0</td>\n",
              "      <td>0</td>\n",
              "      <td>0</td>\n",
              "      <td>1</td>\n",
              "      <td>1</td>\n",
              "      <td>0</td>\n",
              "      <td>1</td>\n",
              "      <td>1</td>\n",
              "      <td>0</td>\n",
              "      <td>0</td>\n",
              "      <td>0</td>\n",
              "      <td>0</td>\n",
              "      <td>0</td>\n",
              "      <td>0</td>\n",
              "      <td>0</td>\n",
              "      <td>1</td>\n",
              "      <td>0</td>\n",
              "      <td>0</td>\n",
              "      <td>0</td>\n",
              "      <td>0</td>\n",
              "      <td>0</td>\n",
              "      <td>0</td>\n",
              "      <td>1</td>\n",
              "      <td>0</td>\n",
              "      <td>0</td>\n",
              "      <td>...</td>\n",
              "      <td>0</td>\n",
              "      <td>0</td>\n",
              "      <td>0</td>\n",
              "      <td>0</td>\n",
              "      <td>1</td>\n",
              "      <td>1</td>\n",
              "      <td>0</td>\n",
              "      <td>0</td>\n",
              "      <td>0</td>\n",
              "      <td>Newsletter Semanal</td>\n",
              "      <td>0</td>\n",
              "      <td>0</td>\n",
              "      <td>0</td>\n",
              "      <td>1</td>\n",
              "      <td>0</td>\n",
              "      <td>0</td>\n",
              "      <td>0</td>\n",
              "      <td>0</td>\n",
              "      <td>0</td>\n",
              "      <td>0</td>\n",
              "      <td>0</td>\n",
              "      <td>0</td>\n",
              "      <td>1</td>\n",
              "      <td>1</td>\n",
              "      <td>0</td>\n",
              "      <td>0</td>\n",
              "      <td>0</td>\n",
              "      <td>0</td>\n",
              "      <td>1</td>\n",
              "      <td>0</td>\n",
              "      <td>0</td>\n",
              "      <td>Udemy</td>\n",
              "      <td>NaN</td>\n",
              "      <td>1.0</td>\n",
              "      <td>Região Sudeste</td>\n",
              "      <td>NaN</td>\n",
              "      <td>Outras Engenharias</td>\n",
              "      <td>Indústria (Manufatura)</td>\n",
              "      <td>NaN</td>\n",
              "      <td>Outras</td>\n",
              "    </tr>\n",
              "    <tr>\n",
              "      <th>3</th>\n",
              "      <td>rmel8ewqpbffp2mnfbzermel8eqincov</td>\n",
              "      <td>21.0</td>\n",
              "      <td>Masculino</td>\n",
              "      <td>1</td>\n",
              "      <td>São Paulo (SP)</td>\n",
              "      <td>0.0</td>\n",
              "      <td>Estudante de Graduação</td>\n",
              "      <td>Estagiário</td>\n",
              "      <td>de 11 a 50</td>\n",
              "      <td>0.0</td>\n",
              "      <td>de R$ 1.001/mês a R$ 2.000/mês</td>\n",
              "      <td>Menos de 1 ano</td>\n",
              "      <td>de 2 a 3 anos</td>\n",
              "      <td>1</td>\n",
              "      <td>0</td>\n",
              "      <td>0</td>\n",
              "      <td>0</td>\n",
              "      <td>0</td>\n",
              "      <td>1</td>\n",
              "      <td>0</td>\n",
              "      <td>0</td>\n",
              "      <td>0</td>\n",
              "      <td>0</td>\n",
              "      <td>0</td>\n",
              "      <td>0</td>\n",
              "      <td>0</td>\n",
              "      <td>0</td>\n",
              "      <td>0</td>\n",
              "      <td>0</td>\n",
              "      <td>0</td>\n",
              "      <td>0</td>\n",
              "      <td>0</td>\n",
              "      <td>0</td>\n",
              "      <td>0</td>\n",
              "      <td>0</td>\n",
              "      <td>1</td>\n",
              "      <td>0</td>\n",
              "      <td>1</td>\n",
              "      <td>0</td>\n",
              "      <td>0</td>\n",
              "      <td>...</td>\n",
              "      <td>0</td>\n",
              "      <td>0</td>\n",
              "      <td>0</td>\n",
              "      <td>0</td>\n",
              "      <td>0</td>\n",
              "      <td>0</td>\n",
              "      <td>0</td>\n",
              "      <td>0</td>\n",
              "      <td>1</td>\n",
              "      <td>Ainda não conhecia o Data Hackers</td>\n",
              "      <td>0</td>\n",
              "      <td>1</td>\n",
              "      <td>0</td>\n",
              "      <td>0</td>\n",
              "      <td>0</td>\n",
              "      <td>0</td>\n",
              "      <td>0</td>\n",
              "      <td>1</td>\n",
              "      <td>0</td>\n",
              "      <td>0</td>\n",
              "      <td>0</td>\n",
              "      <td>0</td>\n",
              "      <td>1</td>\n",
              "      <td>1</td>\n",
              "      <td>1</td>\n",
              "      <td>0</td>\n",
              "      <td>0</td>\n",
              "      <td>0</td>\n",
              "      <td>0</td>\n",
              "      <td>0</td>\n",
              "      <td>0</td>\n",
              "      <td>Alura</td>\n",
              "      <td>NaN</td>\n",
              "      <td>1.0</td>\n",
              "      <td>Região Sudeste</td>\n",
              "      <td>Região Sudeste</td>\n",
              "      <td>Computação / Engenharia de Software / Sistemas...</td>\n",
              "      <td>Tecnologia/Fábrica de Software</td>\n",
              "      <td>NaN</td>\n",
              "      <td>Business Intelligence/Analista de BI</td>\n",
              "    </tr>\n",
              "    <tr>\n",
              "      <th>4</th>\n",
              "      <td>pj9mgud4d6mdct1l7vq0pj9mgu78h6ju</td>\n",
              "      <td>27.0</td>\n",
              "      <td>Masculino</td>\n",
              "      <td>1</td>\n",
              "      <td>NaN</td>\n",
              "      <td>1.0</td>\n",
              "      <td>Graduação/Bacharelado</td>\n",
              "      <td>Freelancer</td>\n",
              "      <td>de 6 a 10</td>\n",
              "      <td>1.0</td>\n",
              "      <td>de R$ 6.001/mês a R$ 8.000/mês</td>\n",
              "      <td>de 4 a 5 anos</td>\n",
              "      <td>de 4 a 5 anos</td>\n",
              "      <td>1</td>\n",
              "      <td>1</td>\n",
              "      <td>0</td>\n",
              "      <td>0</td>\n",
              "      <td>1</td>\n",
              "      <td>1</td>\n",
              "      <td>0</td>\n",
              "      <td>0</td>\n",
              "      <td>1</td>\n",
              "      <td>1</td>\n",
              "      <td>0</td>\n",
              "      <td>1</td>\n",
              "      <td>0</td>\n",
              "      <td>0</td>\n",
              "      <td>0</td>\n",
              "      <td>1</td>\n",
              "      <td>0</td>\n",
              "      <td>0</td>\n",
              "      <td>0</td>\n",
              "      <td>0</td>\n",
              "      <td>0</td>\n",
              "      <td>0</td>\n",
              "      <td>1</td>\n",
              "      <td>0</td>\n",
              "      <td>1</td>\n",
              "      <td>1</td>\n",
              "      <td>0</td>\n",
              "      <td>...</td>\n",
              "      <td>0</td>\n",
              "      <td>0</td>\n",
              "      <td>0</td>\n",
              "      <td>1</td>\n",
              "      <td>0</td>\n",
              "      <td>0</td>\n",
              "      <td>0</td>\n",
              "      <td>0</td>\n",
              "      <td>0</td>\n",
              "      <td>Blog/Medium do Data Hackers</td>\n",
              "      <td>0</td>\n",
              "      <td>0</td>\n",
              "      <td>0</td>\n",
              "      <td>0</td>\n",
              "      <td>0</td>\n",
              "      <td>0</td>\n",
              "      <td>0</td>\n",
              "      <td>0</td>\n",
              "      <td>0</td>\n",
              "      <td>0</td>\n",
              "      <td>1</td>\n",
              "      <td>1</td>\n",
              "      <td>1</td>\n",
              "      <td>1</td>\n",
              "      <td>0</td>\n",
              "      <td>0</td>\n",
              "      <td>0</td>\n",
              "      <td>0</td>\n",
              "      <td>0</td>\n",
              "      <td>0</td>\n",
              "      <td>0</td>\n",
              "      <td>Udemy</td>\n",
              "      <td>NaN</td>\n",
              "      <td>1.0</td>\n",
              "      <td>NaN</td>\n",
              "      <td>NaN</td>\n",
              "      <td>Computação / Engenharia de Software / Sistemas...</td>\n",
              "      <td>Internet/Ecommerce</td>\n",
              "      <td>C-level (CDO, CIO, CTO)</td>\n",
              "      <td>NaN</td>\n",
              "    </tr>\n",
              "  </tbody>\n",
              "</table>\n",
              "<p>5 rows × 170 columns</p>\n",
              "</div>"
            ],
            "text/plain": [
              "                       ('P0', 'id')  ...             ('D6', 'anonymized_role')\n",
              "0  v9otv8j9wdvjrv9otvwnn9owhzq54ktv  ...                                Outras\n",
              "1  875ul998t0hqcv0871uptwf3oswcfv35  ...        Data Analyst/Analista de Dados\n",
              "2  puscuk079vw1pusbb900pzw2xvpxtgdk  ...                                Outras\n",
              "3  rmel8ewqpbffp2mnfbzermel8eqincov  ...  Business Intelligence/Analista de BI\n",
              "4  pj9mgud4d6mdct1l7vq0pj9mgu78h6ju  ...                                   NaN\n",
              "\n",
              "[5 rows x 170 columns]"
            ]
          },
          "metadata": {
            "tags": []
          },
          "execution_count": 6
        }
      ]
    },
    {
      "cell_type": "markdown",
      "metadata": {
        "id": "WZ4_8n2GE2jd",
        "colab_type": "text"
      },
      "source": [
        "Quais são as Colunas?"
      ]
    },
    {
      "cell_type": "code",
      "metadata": {
        "id": "_daXfQuHE0CN",
        "colab_type": "code",
        "colab": {
          "base_uri": "https://localhost:8080/",
          "height": 1000
        },
        "outputId": "321b0438-c2da-4c74-efa0-ba466788c4a4"
      },
      "source": [
        "print(dados.columns.values)"
      ],
      "execution_count": 7,
      "outputs": [
        {
          "output_type": "stream",
          "text": [
            "[\"('P0', 'id')\" \"('P1', 'age')\" \"('P2', 'gender')\"\n",
            " \"('P3', 'living_in_brasil')\" \"('P5', 'living_state')\"\n",
            " \"('P6', 'born_or_graduated')\" \"('P8', 'degreee_level')\"\n",
            " \"('P10', 'job_situation')\" \"('P12', 'workers_number')\"\n",
            " \"('P13', 'manager')\" \"('P16', 'salary_range')\"\n",
            " \"('P17', 'time_experience_data_science')\"\n",
            " \"('P18', 'time_experience_before')\"\n",
            " \"('P19', 'is_data_science_professional')\" \"('P20', 'linear_regression')\"\n",
            " \"('P20', 'logistic_regression')\" \"('P20', 'glms')\"\n",
            " \"('P20', 'decision_tree')\" \"('P20', 'random_forest')\"\n",
            " \"('P20', 'neural_networks')\" \"('P20', 'bayesian_inference')\"\n",
            " \"('P20', 'ensemble')\" \"('P20', 'svms')\" \"('P20', 'cnns')\"\n",
            " \"('P20', 'rnns')\" \"('P20', 'hmms')\" \"('P20', 'gans')\"\n",
            " \"('P20', 'markov_chains')\" \"('P20', 'nlp')\"\n",
            " \"('P20', 'gradient_boosted_machines')\" \"('P20', 'cluster_analysis')\"\n",
            " \"('P20', 'survival_analysis')\" \"('P20', 'longitudinal_data_analysis')\"\n",
            " \"('P20', 'joint analysis')\" \"('P20', 'no_listed_methods')\"\n",
            " \"('P21', 'sql_')\" \"('P21', 'r')\" \"('P21', 'python')\"\n",
            " \"('P21', 'c_c++_c#')\" \"('P21', 'dotnet')\" \"('P21', 'java')\"\n",
            " \"('P21', 'julia')\" \"('P21', 'sas_stata')\" \"('P21', 'visual_basic_vba')\"\n",
            " \"('P21', 'scala')\" \"('P21', 'matlab')\" \"('P21', 'php')\"\n",
            " \"('P21', 'no_listed_languages')\"\n",
            " \"('P22', 'most_used_proggraming_languages')\" \"('P23', 'sql')\"\n",
            " \"('P23', 'nosql')\" \"('P23', 'images')\" \"('P23', 'nlp')\"\n",
            " \"('P23', 'videos')\" \"('P23', 'sheets')\" \"('P23', 'other')\"\n",
            " \"('P24', 'sql')\" \"('P24', 'nosql')\" \"('P24', 'imagens')\" \"('P24', 'nlp')\"\n",
            " \"('P24', 'vídeos')\" \"('P24', 'planilhas')\" \"('P24', 'other')\"\n",
            " \"('P25', 'aws')\" \"('P25', 'gcp')\" \"('P25', 'azure')\" \"('P25', 'ibm')\"\n",
            " \"('P25', 'on_premise_servers')\" \"('P25', 'cloud_própria')\"\n",
            " \"('P25', 'other')\" \"('P26', 'mysql')\" \"('P26', 'oracle')\"\n",
            " \"('P26', 'sql_server')\" \"('P26', 'aurora')\" \"('P26', 'dynamodb')\"\n",
            " \"('P26', 'coachdb')\" \"('P26', 'cassandra')\" \"('P26', 'mongodb')\"\n",
            " \"('P26', 'mariadb')\" \"('P26', 'datomic')\" \"('P26', 's3')\"\n",
            " \"('P26', 'postgresql')\" \"('P26', 'elaticsearch')\" \"('P26', 'db2')\"\n",
            " \"('P26', 'ms_access')\" \"('P26', 'sqlite')\" \"('P26', 'sybase')\"\n",
            " \"('P26', 'firebase')\" \"('P26', 'vertica')\" \"('P26', 'redis')\"\n",
            " \"('P26', 'neo4j')\" \"('P26', 'google_bigtable')\" \"('P26', 'hbase')\"\n",
            " \"('P26', 'other')\" \"('P27', 'microsoft_powerbi')\"\n",
            " \"('P27', 'qlik_view_qlik_sense')\" \"('P27', 'tableau')\"\n",
            " \"('P27', 'metabase')\" \"('P27', 'superset')\" \"('P27', 'redash')\"\n",
            " \"('P27', 'microstrategy')\" \"('P27', 'ibm_analytics_cognos')\"\n",
            " \"('P27', 'sap_business_objects')\"\n",
            " \"('P27', 'oracle_business_intelligence')\" \"('P27', 'birst')\"\n",
            " \"('P27', 'looker')\" \"('P27', 'google_data_studio')\"\n",
            " \"('P27', 'only_excel_gsheets')\" \"('P27', 'no_bi_tool_at_work')\"\n",
            " \"('P27', 'other')\" \"('P28', 'sql_&_stored_procedures')\"\n",
            " \"('P28', 'apache_airflow')\" \"('P28', 'luigi')\" \"('P28', 'aws_glue')\"\n",
            " \"('P28', 'talend')\" \"('P28', 'pentaho')\" \"('P28', 'alteryx')\"\n",
            " \"('P28', 'oracle_data_integrator')\" \"('P28', 'ibm_data_stage')\"\n",
            " \"('P28', 'sap_bw_etl')\" \"('P28', 'siss_sql_server_integration_services')\"\n",
            " \"('P28', 'other')\" \"('P29', 'have_data_warehouse')\"\n",
            " \"('P30', 'google_bigquery')\" \"('P30', 'aws_redshift')\"\n",
            " \"('P30', 'snowflake')\" \"('P30', 'oracle')\" \"('P30', 'postgres_mysql')\"\n",
            " \"('P30', 'ibm')\" \"('P30', 'teradata')\" \"('P30', 'microsoft_azure')\"\n",
            " \"('P30', 'do_not_know')\" \"('P30', 'other')\"\n",
            " \"('P31', 'data_hackers_blog')\" \"('P31', 'data_hackers_podcast')\"\n",
            " \"('P31', 'weekly_newsletter')\" \"('P31', 'slack_channel')\"\n",
            " \"('P31', 'data_hackers_bootcamp')\" \"('P31', 'do_not_know_data_hackers')\"\n",
            " \"('P32', 'prefered_data_hackers_initiative')\"\n",
            " \"('P33', 'telegram_groups')\" \"('P33', 'whatsapp_groups')\"\n",
            " \"('P33', 'youtube_channels')\" \"('P33', 'other_brasilian_blogs')\"\n",
            " \"('P33', 'other_slack_channels')\" \"('P33', 'twitter')\"\n",
            " \"('P33', 'abroad_blogs')\" \"('P33', 'abroad_podcasts')\"\n",
            " \"('P33', 'meetups_and_events')\" \"('P33', 'only_data_hackers')\"\n",
            " \"('P33', 'other')\" \"('P34', 'udacity')\" \"('P34', 'coursera')\"\n",
            " \"('P34', 'udemy')\" \"('P34', 'height')\" \"('P34', 'edx')\"\n",
            " \"('P34', 'data_camp')\" \"('P34', 'data_quest')\" \"('P34', 'kaggle_learn')\"\n",
            " \"('P34', 'online_courses')\" \"('P34', 'other')\"\n",
            " \"('P35', 'data_science_plataforms_preference')\" \"('P35', 'other')\"\n",
            " \"('P36', 'draw_participation')\" \"('D1', 'living_macroregion')\"\n",
            " \"('D2', 'origin_macroregion')\" \"('D3', 'anonymized_degree_area')\"\n",
            " \"('D4', 'anonymized_market_sector')\" \"('D5', 'anonymized_manager_level')\"\n",
            " \"('D6', 'anonymized_role')\"]\n"
          ],
          "name": "stdout"
        }
      ]
    },
    {
      "cell_type": "markdown",
      "metadata": {
        "id": "LLuTn-tbIv2-",
        "colab_type": "text"
      },
      "source": [
        "Qual Tamanho do CSV?"
      ]
    },
    {
      "cell_type": "code",
      "metadata": {
        "id": "JOmRaoKfI0h5",
        "colab_type": "code",
        "colab": {
          "base_uri": "https://localhost:8080/",
          "height": 33
        },
        "outputId": "9c73de3a-e300-4ba7-e268-2d34f21d15bd"
      },
      "source": [
        "dados.shape"
      ],
      "execution_count": 22,
      "outputs": [
        {
          "output_type": "execute_result",
          "data": {
            "text/plain": [
              "(1765, 170)"
            ]
          },
          "metadata": {
            "tags": []
          },
          "execution_count": 22
        }
      ]
    },
    {
      "cell_type": "markdown",
      "metadata": {
        "id": "J6czBuyvEqNH",
        "colab_type": "text"
      },
      "source": [
        "Quem respondeu o questionário ?\n"
      ]
    },
    {
      "cell_type": "code",
      "metadata": {
        "id": "LwQQSaYYF9sN",
        "colab_type": "code",
        "colab": {
          "base_uri": "https://localhost:8080/",
          "height": 268
        },
        "outputId": "57c6704b-9ffb-47da-8200-d3ec873ef1fc"
      },
      "source": [
        "dados[\"('D6', 'anonymized_role')\"].value_counts()"
      ],
      "execution_count": 21,
      "outputs": [
        {
          "output_type": "execute_result",
          "data": {
            "text/plain": [
              "Desenvolvedor ou Engenheiro de Software    225\n",
              "Outras                                     220\n",
              "Data Scientist/Cientista de Dados          167\n",
              "Data Analyst/Analista de Dados             163\n",
              "Business Intelligence/Analista de BI       150\n",
              "Data Engineer/Engenheiro de Dados          130\n",
              "Business Analyst/Analista de Negócios       72\n",
              "Analista de Inteligência de Mercado         29\n",
              "Engenheiro                                  26\n",
              "Analista de Marketing                       19\n",
              "Engenheiro de Machine Learning              15\n",
              "DBA/Administrador de Banco de Dados         14\n",
              "Estatístico                                 11\n",
              "Economista                                  10\n",
              "Name: ('D6', 'anonymized_role'), dtype: int64"
            ]
          },
          "metadata": {
            "tags": []
          },
          "execution_count": 21
        }
      ]
    },
    {
      "cell_type": "markdown",
      "metadata": {
        "id": "OU8pXR5dFBTM",
        "colab_type": "text"
      },
      "source": [
        "Qual escolaridade dos participantes?"
      ]
    },
    {
      "cell_type": "code",
      "metadata": {
        "id": "2kkOzkD8F-7d",
        "colab_type": "code",
        "colab": {
          "base_uri": "https://localhost:8080/",
          "height": 150
        },
        "outputId": "aa9edde4-8c10-47cd-ff8c-60660df8bffd"
      },
      "source": [
        "dados[\"('P8', 'degreee_level')\"].value_counts()"
      ],
      "execution_count": 24,
      "outputs": [
        {
          "output_type": "execute_result",
          "data": {
            "text/plain": [
              "Graduação/Bacharelado         578\n",
              "Pós-graduação                 527\n",
              "Estudante de Graduação        374\n",
              "Mestrado                      201\n",
              "Doutorado ou Phd               50\n",
              "Não tenho graduação formal     34\n",
              "Prefiro não informar            1\n",
              "Name: ('P8', 'degreee_level'), dtype: int64"
            ]
          },
          "metadata": {
            "tags": []
          },
          "execution_count": 24
        }
      ]
    },
    {
      "cell_type": "markdown",
      "metadata": {
        "id": "35AQmg88FN8N",
        "colab_type": "text"
      },
      "source": [
        "Qual a situação empregatícia ?"
      ]
    },
    {
      "cell_type": "code",
      "metadata": {
        "id": "C-4i8CQ-D01G",
        "colab_type": "code",
        "colab": {
          "base_uri": "https://localhost:8080/",
          "height": 217
        },
        "outputId": "7658d268-2fd7-4863-e3dd-367cdc7b2d9e"
      },
      "source": [
        "dados[\"('P10', 'job_situation')\"].value_counts()"
      ],
      "execution_count": 28,
      "outputs": [
        {
          "output_type": "execute_result",
          "data": {
            "text/plain": [
              "Empregado (CTL)                                  1073\n",
              "Empreendedor ou Empregado (CNPJ)                  234\n",
              "Estagiário                                        131\n",
              "Somente Estudante (graduação)                      85\n",
              "Desempregado, buscando recolocação                 69\n",
              "Servidor Público                                   60\n",
              "Trabalho na área Acadêmica/Pesquisador             45\n",
              "Somente Estudante (pós-graduação)                  36\n",
              "Freelancer                                         23\n",
              "Prefiro não dizer                                   6\n",
              "Desempregado e não estou buscando recolocação       3\n",
              "Name: ('P10', 'job_situation'), dtype: int64"
            ]
          },
          "metadata": {
            "tags": []
          },
          "execution_count": 28
        }
      ]
    },
    {
      "cell_type": "markdown",
      "metadata": {
        "id": "DNAFMYnQJswE",
        "colab_type": "text"
      },
      "source": [
        "Qual o Gênero ?"
      ]
    },
    {
      "cell_type": "code",
      "metadata": {
        "id": "lDYn24YBJbu7",
        "colab_type": "code",
        "colab": {
          "base_uri": "https://localhost:8080/",
          "height": 67
        },
        "outputId": "680d876a-66db-4ce7-eedb-bbe8411030b6"
      },
      "source": [
        "dados[\"('P2', 'gender')\"].value_counts()"
      ],
      "execution_count": 29,
      "outputs": [
        {
          "output_type": "execute_result",
          "data": {
            "text/plain": [
              "Masculino    1436\n",
              "Feminino      326\n",
              "Name: ('P2', 'gender'), dtype: int64"
            ]
          },
          "metadata": {
            "tags": []
          },
          "execution_count": 29
        }
      ]
    },
    {
      "cell_type": "markdown",
      "metadata": {
        "id": "AKQZxzSnJ9gs",
        "colab_type": "text"
      },
      "source": [
        "Quem respondeu geralmente usa qual Linguagem de programação?"
      ]
    },
    {
      "cell_type": "code",
      "metadata": {
        "id": "R_HupfmjJ5M7",
        "colab_type": "code",
        "colab": {
          "base_uri": "https://localhost:8080/",
          "height": 184
        },
        "outputId": "9daf96a2-4880-47f7-9650-8262d44a002a"
      },
      "source": [
        "dados[\"('P22', 'most_used_proggraming_languages')\"].value_counts()"
      ],
      "execution_count": 30,
      "outputs": [
        {
          "output_type": "execute_result",
          "data": {
            "text/plain": [
              "Python                                         459\n",
              "SQL                                            279\n",
              "R                                               91\n",
              "SAS/Stata                                       19\n",
              "Java                                            17\n",
              "Visual Basic/VBA                                12\n",
              "Não utilizo nenhuma das linguagens listadas     10\n",
              "Scala                                           10\n",
              "C/C++/C#                                         9\n",
              "Name: ('P22', 'most_used_proggraming_languages'), dtype: int64"
            ]
          },
          "metadata": {
            "tags": []
          },
          "execution_count": 30
        }
      ]
    },
    {
      "cell_type": "markdown",
      "metadata": {
        "id": "yhaiTpRMKobE",
        "colab_type": "text"
      },
      "source": [
        "Por onde preferem estudar Data Science?"
      ]
    },
    {
      "cell_type": "code",
      "metadata": {
        "id": "dZ8qd2zpKjCl",
        "colab_type": "code",
        "colab": {
          "base_uri": "https://localhost:8080/",
          "height": 184
        },
        "outputId": "df792cd1-b8e5-441e-c8af-c52c27a7d936"
      },
      "source": [
        "dados[\"('P35', 'data_science_plataforms_preference')\"].value_counts()"
      ],
      "execution_count": 31,
      "outputs": [
        {
          "output_type": "execute_result",
          "data": {
            "text/plain": [
              "Udemy                      466\n",
              "Coursera                   309\n",
              "Udacity                    238\n",
              "Nunca fiz cursos online    162\n",
              "DataCamp                   162\n",
              "Alura                      138\n",
              "Kaggle Learn                74\n",
              "edX                         52\n",
              "DataQuest                   24\n",
              "Name: ('P35', 'data_science_plataforms_preference'), dtype: int64"
            ]
          },
          "metadata": {
            "tags": []
          },
          "execution_count": 31
        }
      ]
    },
    {
      "cell_type": "code",
      "metadata": {
        "id": "cmVcXv5rK5Ki",
        "colab_type": "code",
        "colab": {}
      },
      "source": [
        ""
      ],
      "execution_count": 0,
      "outputs": []
    }
  ]
}